{
 "cells": [
  {
   "cell_type": "code",
   "execution_count": 2,
   "id": "ef2bf19f-9821-4bb8-bf40-4eeddb3c0f66",
   "metadata": {},
   "outputs": [
    {
     "name": "stdout",
     "output_type": "stream",
     "text": [
      "✅ All libraries imported!\n",
      "   PTS  AST  REB  Cluster\n",
      "0   20    5    8        0\n",
      "1   25    7    6        0\n",
      "2   15    3    5        0\n",
      "3   30   10    9        1\n"
     ]
    }
   ],
   "source": [
    "import pandas as pd\n",
    "import numpy as np\n",
    "import matplotlib.pyplot as plt\n",
    "from sklearn.cluster import KMeans\n",
    "\n",
    "print(\"✅ All libraries imported!\")\n",
    "\n",
    "# Dummy test\n",
    "df = pd.DataFrame({\n",
    "    'PTS': [20, 25, 15, 30],\n",
    "    'AST': [5, 7, 3, 10],\n",
    "    'REB': [8, 6, 5, 9]\n",
    "})\n",
    "\n",
    "kmeans = KMeans(n_clusters=2)\n",
    "clusters = kmeans.fit_predict(df)\n",
    "df['Cluster'] = clusters\n",
    "\n",
    "print(df)\n"
   ]
  },
  {
   "cell_type": "code",
   "execution_count": null,
   "id": "35a93864-b022-42d7-820b-4d218bf3da37",
   "metadata": {},
   "outputs": [],
   "source": []
  }
 ],
 "metadata": {
  "kernelspec": {
   "display_name": "Python 3 (ipykernel)",
   "language": "python",
   "name": "python3"
  },
  "language_info": {
   "codemirror_mode": {
    "name": "ipython",
    "version": 3
   },
   "file_extension": ".py",
   "mimetype": "text/x-python",
   "name": "python",
   "nbconvert_exporter": "python",
   "pygments_lexer": "ipython3",
   "version": "3.13.3"
  }
 },
 "nbformat": 4,
 "nbformat_minor": 5
}
